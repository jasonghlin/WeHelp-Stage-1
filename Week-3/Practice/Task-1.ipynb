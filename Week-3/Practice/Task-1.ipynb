{
 "cells": [
  {
   "cell_type": "code",
   "execution_count": 21,
   "metadata": {},
   "outputs": [
    {
     "name": "stdout",
     "output_type": "stream",
     "text": [
      "{'新北投': ['新北投溫泉區', '北投圖書館', '地熱谷', '梅庭', '北投溫泉博物館', '北投公園'], '雙連': ['大稻埕碼頭', '新店溪、大漢溪與淡水河自行車道'], '士林': ['士林官邸', '國立故宮博物院', '陽明山國家公園'], '劍潭': ['陽明山溫泉區', '社子島環島與二重疏洪道自行車道', '國立臺灣科學教育館', '陽明山中山樓'], '唭哩岸': ['關渡、金色水岸、八里左岸自行車道'], '大安森林公園': ['大安森林公園'], '象山': ['南港山系-象山親山步道'], '龍山寺': ['艋舺龍山寺', '臺北市鄉土教育中心(剝皮寮歷史街區)', '華中河濱公園'], '行天宮': ['行天宮'], '中正紀念堂': ['中正紀念堂', '國立歷史博物館'], '市政府': ['台北探索館', '松山文創園區'], '動物園': ['二格山系-指南宮貓空親山步道', '臺北市立動物園', '景美溪左、右岸自行車道'], '關渡': ['琉園水晶博物館(暫時休館)', '關渡碼頭-甘豆門', '冷水坑溫泉區', '關渡宮'], '忠孝新生': ['華山1914文化創意產業園區', '臺北啤酒工廠(原建國啤酒廠)'], '臺大醫院': ['長榮海事博物館', '二二八和平公園'], '台北101／世貿': ['台北101'], '松江南京': ['袖珍博物館'], '中山': ['台北霞海城隍廟', '台北當代藝術館', '光點臺北'], '國父紀念館': ['國父紀念館'], '文德': ['碧湖公園'], '圓山': ['基隆河左、右岸親水', '臺北市立美術館', '大龍峒保安宮'], '大湖公園': ['大湖公園'], '大直': ['臺北忠烈祠'], '石牌': ['七星山系-天母古道親山步道'], '忠義': ['行天宮北投分宮-忠義廟'], '西門': ['西門紅樓'], '松山': ['松山慈祐宮'], '北投': ['北投文物館'], '葫洲': ['內溝溪景觀生態步道'], '木柵': ['指南宮'], '芝山': ['雙溪生活水岸'], '公館': ['自來水博物館']}\n"
     ]
    }
   ],
   "source": [
    "import urllib.request as request\n",
    "import json\n",
    "import csv\n",
    "URL_1  = \"https://padax.github.io/taipei-day-trip-resources/taipei-attractions-assignment-1\"\n",
    "URL_2 = \"https://padax.github.io/taipei-day-trip-resources/taipei-attractions-assignment-2\"\n",
    "\n",
    "def write_csv(data, output_csv_name):\n",
    "    header = [\"stitle\", \"address\", \"longitude\", \"latitude\", \"filelist\"]\n",
    "    with open(f\"{output_csv_name}.csv\", 'w') as file:    \n",
    "        writer = csv.DictWriter(file, fieldnames=header)\n",
    "        # writer.writeheader()\n",
    "        for row in data:\n",
    "            writer.writerow(row)\n",
    "\n",
    "def write_mrt_spot_csv(data, output_csv_name):\n",
    "    with open(f\"{output_csv_name}.csv\", 'w') as file:    \n",
    "        writer = csv.writer(file)\n",
    "        for key, values in data.items():\n",
    "            row = []\n",
    "            row.append(key)\n",
    "            row.extend(values)\n",
    "            writer.writerow(row)\n",
    "\n",
    "with request.urlopen(URL_1) as response:\n",
    "    data_1 = json.loads(response.read().decode('utf-8'))\n",
    "    if data_1:\n",
    "        data_1 = data_1[\"data\"][\"results\"]\n",
    "\n",
    "\n",
    "with request.urlopen(URL_2) as response:\n",
    "    data_2 = json.loads(response.read().decode('utf-8'))\n",
    "    if data_2:\n",
    "        data_2 = data_2[\"data\"]\n",
    "\n",
    "output_data = []\n",
    "full_data = []\n",
    "for i in range(len(data_1)):\n",
    "    for j in range(len(data_2)):\n",
    "        if data_1[i][\"SERIAL_NO\"] == data_2[j][\"SERIAL_NO\"]:\n",
    "            full_data.append({**data_1[i], **data_2[j]})\n",
    "\n",
    "# full_data = [{**data_1[i], **data_2[i]} for i in range(len(data_1)) if data_1[i][\"SERIAL_NO\"] == data_2[i][\"SERIAL_NO\"]]\n",
    "\n",
    "for i in range(len(full_data) - 1):\n",
    "    filtered_data = {key: value for key, value in full_data[i].items() if key in [\"stitle\", \"address\", \"longitude\", \"latitude\", \"filelist\"]}\n",
    "    output_data.append(filtered_data)\n",
    "    output_data[i][\"filelist\"] = \"https://\" + output_data[i][\"filelist\"].split(\"https://\")[1]\n",
    "    output_data[i][\"address\"] = output_data[i][\"address\"].split()[1][:3]\n",
    "\n",
    "# group data by mrt\n",
    "mrt_groups = {}\n",
    "for i in range(len(full_data)):\n",
    "    mrt = full_data[i][\"MRT\"]\n",
    "    if mrt:\n",
    "        if mrt not in mrt_groups:\n",
    "            mrt_groups[mrt] = []\n",
    "        mrt_groups[mrt].append(full_data[i][\"stitle\"])\n",
    "\n",
    "    \n",
    "\n",
    "\n",
    "write_csv(output_data, \"test\")\n",
    "write_mrt_spot_csv(mrt_groups, \"test_2\")\n",
    "print(mrt_groups)\n",
    "\n"
   ]
  },
  {
   "cell_type": "code",
   "execution_count": 16,
   "metadata": {},
   "outputs": [
    {
     "name": "stdout",
     "output_type": "stream",
     "text": [
      "{'info': '新北投站下車，沿中山路直走即可到達公車：216、218、223、230、266、602、小6、小7、小9、、小22、小25、小26至新北投站下車', 'stitle': '新北投溫泉區', 'xpostDate': '2016/07/07', 'longitude': '121.508447', 'REF_WP': '10', 'avBegin': '2010/02/14', 'langinfo': '10', 'SERIAL_NO': '2011051800000061', 'RowNumber': '1', 'CAT1': '景點', 'CAT2': '養生溫泉', 'MEMO_TIME': '各業者不同，依據現場公告', 'POI': 'Y', 'filelist': 'https://www.travel.taipei/d_upload_ttn/sceneadmin/pic/11000848.jpghttps://www.travel.taipei/d_upload_ttn/sceneadmin/pic/11002891.jpghttps://www.travel.taipei/d_upload_ttn/sceneadmin/image/A0/B0/C0/D315/E70/F65/1e0951fb-069f-4b13-b5ca-2d09df1d3d90.JPGhttps://www.travel.taipei/d_upload_ttn/sceneadmin/image/A0/B0/C0/D260/E538/F274/e7d482ba-e3c0-40c3-87ef-3f2a1c93edfa.JPGhttps://www.travel.taipei/d_upload_ttn/sceneadmin/image/A0/B0/C0/D919/E767/F581/9ddde70e-55c2-4cf0-bd3d-7a8450582e55.jpghttps://www.travel.taipei/d_upload_ttn/sceneadmin/image/A0/B0/C1/D28/E891/F188/77a58890-7711-4ca2-aebe-4aa379726575.JPG', 'idpt': '臺北旅遊網', 'latitude': '25.137077', 'xbody': '北投溫泉從日據時代便有盛名，深受喜愛泡湯的日人自然不會錯過，瀧乃湯、星乃湯、鐵乃湯就是日本人依照溫泉的特性與療效給予的名稱，據說對皮膚病、神經過敏、氣喘、風濕等具有很好的療效，也因此成為了北部最著名的泡湯景點之一。新北投溫泉的泉源為大磺嘴溫泉，泉質屬硫酸鹽泉，PH值約為3~4之間，水質呈黃白色半透明，泉水溫度約為50-90℃，帶有些許的硫磺味 。目前北投的溫泉旅館、飯店、會館大部分集中於中山路、光明路沿線以及北投公園地熱谷附近，總計約有44家，每一家都各有其特色，多樣的溫泉水療以及遊憩設施，提供遊客泡湯養生，而鄰近的景點也是非常值得造訪，例如被列為三級古蹟的三寶吟松閣、星乃湯、瀧乃湯以及北投第一家溫泉旅館「天狗庵」，都有著深遠的歷史背景，而北投公園、北投溫泉博物館、北投文物館、地熱谷等，更是遊客必遊的景點，來到北投除了可以讓溫泉洗滌身心疲憊，也可以順便了解到北投溫泉豐富的人文歷史。', '_id': 1, 'avEnd': '2016/07/07', 'MRT': '新北投', 'address': '臺北市  北投區中山路、光明路沿線'}\n"
     ]
    }
   ],
   "source": [
    "print((full_data[0]))"
   ]
  },
  {
   "cell_type": "code",
   "execution_count": 1,
   "metadata": {},
   "outputs": [
    {
     "name": "stdout",
     "output_type": "stream",
     "text": [
      "萬華區\n"
     ]
    }
   ],
   "source": [
    "import ssl\n",
    "ssl._create_default_https_context = ssl._create_unverified_context\n",
    "\n",
    "import json\n",
    "import csv\n",
    "import urllib.request\n",
    "\n",
    "def save_attractions_to_csv(attractions):\n",
    "    with open('attraction.csv', mode='w', encoding='utf-8', newline='') as file:\n",
    "\n",
    "        writer = csv.writer(file)\n",
    "        \n",
    "        writer.writerow([\"景點名稱\", \"區域\", \"經度\", \"緯度\", \"第一張圖檔網址\"])\n",
    "        \n",
    "        for attraction in attractions:\n",
    "            name = attraction['stitle']\n",
    "            district = attraction['address'].split()[1].split('區')[0] + \"區\"\n",
    "            longitude = attraction['longitude']\n",
    "            latitude = attraction['latitude']\n",
    "            image_url = \"https://\" + attraction['file'].split('https://')[1]\n",
    "            writer.writerow([name, district, longitude, latitude, image_url])\n",
    "        \n",
    "        print(attraction['address'].split()[1].split('區')[0] + \"區\")\n",
    "\n",
    "def group_attractions_by_mrt_station(attractions):\n",
    "\n",
    "    mrt_groups = {}\n",
    "    \n",
    "    for attraction in attractions:\n",
    "        mrt = attraction['MRT']\n",
    "        if mrt:\n",
    "            station = mrt.split()[0]\n",
    "            if station not in mrt_groups:\n",
    "                mrt_groups[station] = []\n",
    "            mrt_groups[station].append(attraction)\n",
    "\n",
    "    return mrt_groups\n",
    "\n",
    "def save_attractions_by_mrt_to_csv(mrt_groups, attractions_count):\n",
    "\n",
    "    with open('mrt.csv', mode='w', encoding='utf-8', newline='') as file:\n",
    "    \n",
    "        writer = csv.writer(file)\n",
    "\n",
    "        chinese_num = [\"一\", \"二\", \"三\", \"四\", \"五\", \"六\", \"七\"]\n",
    "    \n",
    "        header = [\"捷運站名稱\"] + [\"景點名稱\" + chinese_num[i] for i in range(attractions_count)]\n",
    "    \n",
    "        writer.writerow(header)\n",
    "        \n",
    "        for station, attractions in mrt_groups.items():\n",
    "            attraction_names = [attraction['stitle'] for attraction in attractions]\n",
    "            \n",
    "            attraction_num = \" \"\n",
    "\n",
    "            if len(attraction_names) >= attractions_count:\n",
    "                attraction_num = attraction_names[:attractions_count]\n",
    "            else:\n",
    "                attraction_num = attraction_names + [''] * (attractions_count - len(attraction_names))\n",
    "            writer.writerow([station] + attraction_num)\n",
    "            \n",
    "url = 'https://padax.github.io/taipei-day-trip-resources/taipei-attractions-assignment.json'\n",
    "\n",
    "with urllib.request.urlopen(url) as response:\n",
    "    data = json.loads(response.read().decode('utf-8'))\n",
    "\n",
    "if data:\n",
    "    attractions = data['result']['results']\n",
    "\n",
    "    save_attractions_to_csv(attractions)\n",
    "\n",
    "    mrt_groups = group_attractions_by_mrt_station(attractions)\n",
    "\n",
    "    attractions_count = max(len(mrt_groups[station]) for station in mrt_groups)\n",
    "    \n",
    "    save_attractions_by_mrt_to_csv(mrt_groups, attractions_count)"
   ]
  }
 ],
 "metadata": {
  "kernelspec": {
   "display_name": "base",
   "language": "python",
   "name": "python3"
  },
  "language_info": {
   "codemirror_mode": {
    "name": "ipython",
    "version": 3
   },
   "file_extension": ".py",
   "mimetype": "text/x-python",
   "name": "python",
   "nbconvert_exporter": "python",
   "pygments_lexer": "ipython3",
   "version": "3.12.1"
  }
 },
 "nbformat": 4,
 "nbformat_minor": 2
}
