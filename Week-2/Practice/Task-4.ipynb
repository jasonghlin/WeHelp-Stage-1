{
 "cells": [
  {
   "cell_type": "code",
   "execution_count": 9,
   "metadata": {},
   "outputs": [
    {
     "data": {
      "text/plain": [
       "70"
      ]
     },
     "execution_count": 9,
     "metadata": {},
     "output_type": "execute_result"
    }
   ],
   "source": [
    "# 0, 4, 8, 7, 11, 15, 14, 18, 22, 21, 25, ...\n",
    "# n n+4 n+8 n+8-1 n+8-1+4\n",
    "def get_number(index):\n",
    "    # your code here\n",
    "    if index == 0:       \n",
    "        return 0\n",
    "    elif index % 3 == 0:        \n",
    "        return get_number(index-1) - 1\n",
    "    else:       \n",
    "        return get_number(index -1) + 4\n",
    "\n",
    "get_number(1) # print 4\n",
    "get_number(5) # print 15\n",
    "get_number(10) # print 25\n",
    "get_number(30) # print 70"
   ]
  },
  {
   "cell_type": "code",
   "execution_count": 11,
   "metadata": {},
   "outputs": [
    {
     "data": {
      "text/plain": [
       "29"
      ]
     },
     "execution_count": 11,
     "metadata": {},
     "output_type": "execute_result"
    }
   ],
   "source": [
    "get_number(11)"
   ]
  }
 ],
 "metadata": {
  "kernelspec": {
   "display_name": "base",
   "language": "python",
   "name": "python3"
  },
  "language_info": {
   "codemirror_mode": {
    "name": "ipython",
    "version": 3
   },
   "file_extension": ".py",
   "mimetype": "text/x-python",
   "name": "python",
   "nbconvert_exporter": "python",
   "pygments_lexer": "ipython3",
   "version": "3.12.1"
  }
 },
 "nbformat": 4,
 "nbformat_minor": 2
}
