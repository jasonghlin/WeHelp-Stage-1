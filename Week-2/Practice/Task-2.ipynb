{
 "cells": [
  {
   "cell_type": "code",
   "execution_count": 1,
   "metadata": {},
   "outputs": [
    {
     "name": "stdout",
     "output_type": "stream",
     "text": [
      "Jenny\n",
      "Jenny\n",
      "John\n",
      "John\n",
      "Bob\n",
      "No Service\n",
      "John\n"
     ]
    }
   ],
   "source": [
    "# 先處理時間的部分\n",
    "# your code here, maybe\n",
    "\n",
    "def book(consultants, hour, duration, criteria):\n",
    "    # your code here\n",
    "    # booking: 客戶預約時間\n",
    "    booking = list(range(hour, hour + duration+1))\n",
    "    # print(booking)\n",
    "\n",
    "    #從後面開始往前刪除，remove 和 booking 重疊的 consultant \n",
    "    available_consultants = consultants[:]\n",
    "    for i in range(len(available_consultants) - 1, -1, -1):\n",
    "        if any(time in available_consultants[i][\"busy_time\"] for time in booking):\n",
    "            available_consultants.pop(i)\n",
    "    # print(available_consultants)\n",
    "\n",
    "    if available_consultants == []:\n",
    "        print(\"No Service\")\n",
    "        return\n",
    "\n",
    "    best_consultant = {\"rate\": 0, \"price\": 9999}\n",
    "    if criteria == \"price\":\n",
    "        for consultant in available_consultants:\n",
    "            if consultant[\"price\"] < best_consultant[\"price\"]:\n",
    "                best_consultant = consultant\n",
    "                \n",
    "    elif criteria == \"rate\":\n",
    "        for consultant in available_consultants:\n",
    "            if consultant[\"rate\"] > best_consultant[\"rate\"]:\n",
    "                best_consultant = consultant\n",
    "\n",
    "    for consultant in consultants:\n",
    "        if consultant[\"name\"] == best_consultant[\"name\"]:\n",
    "            consultant[\"busy_time\"].extend(booking)\n",
    "            break\n",
    "\n",
    "    print(best_consultant[\"name\"])\n",
    "consultants=[\n",
    "    {\"name\":\"John\", \"rate\":4.5, \"price\":1000},\n",
    "    {\"name\":\"Bob\", \"rate\":3, \"price\":1200},\n",
    "    {\"name\":\"Jenny\", \"rate\":3.8, \"price\":800}\n",
    "]\n",
    "\n",
    "\n",
    "for consultant in consultants:\n",
    "    consultant[\"busy_time\"] = []\n",
    "\n",
    "book(consultants, 15, 1, \"price\") # Jenny\n",
    "book(consultants, 11, 2, \"price\") # Jenny\n",
    "book(consultants, 10, 2, \"price\") # John\n",
    "book(consultants, 20, 2, \"rate\") # John\n",
    "book(consultants, 11, 1, \"rate\") # Bob\n",
    "book(consultants, 11, 2, \"rate\") # No Service\n",
    "book(consultants, 14, 3, \"price\") # John"
   ]
  },
  {
   "cell_type": "code",
   "execution_count": 57,
   "metadata": {},
   "outputs": [
    {
     "name": "stdout",
     "output_type": "stream",
     "text": [
      "[]\n"
     ]
    }
   ],
   "source": [
    "test = [{\"name\": 1}]\n",
    "test.pop(0)\n",
    "print(test)"
   ]
  },
  {
   "cell_type": "code",
   "execution_count": 61,
   "metadata": {},
   "outputs": [
    {
     "name": "stdout",
     "output_type": "stream",
     "text": [
      "Jenny\n",
      "Jenny\n",
      "John\n",
      "John\n",
      "Bob\n",
      "No Service\n",
      "John\n"
     ]
    }
   ],
   "source": [
    "def book(consultants, hour, duration, criteria):\n",
    "    booking = list(range(hour, hour + duration))\n",
    "    available_consultants = [consultant for consultant in consultants if not any(time in consultant[\"busy_time\"] for time in booking)]\n",
    "\n",
    "    if not available_consultants:\n",
    "        print(\"No Service\")\n",
    "        return\n",
    "\n",
    "    if criteria == \"price\":\n",
    "        best_consultant = min(available_consultants, key=lambda x: x[\"price\"])\n",
    "    elif criteria == \"rate\":\n",
    "        best_consultant = max(available_consultants, key=lambda x: x[\"rate\"])\n",
    "\n",
    "    # 更新被选中顾问的忙碌时间\n",
    "    for consultant in consultants:\n",
    "        if consultant[\"name\"] == best_consultant[\"name\"]:\n",
    "            consultant[\"busy_time\"].extend(booking)\n",
    "\n",
    "    print(best_consultant[\"name\"])\n",
    "\n",
    "consultants = [\n",
    "    {\"name\": \"John\", \"rate\": 4.5, \"price\": 1000, \"busy_time\": []},\n",
    "    {\"name\": \"Bob\", \"rate\": 3, \"price\": 1200, \"busy_time\": []},\n",
    "    {\"name\": \"Jenny\", \"rate\": 3.8, \"price\": 800, \"busy_time\": []}\n",
    "]\n",
    "\n",
    "# 测试代码\n",
    "book(consultants, 15, 1, \"price\")\n",
    "book(consultants, 11, 2, \"price\")\n",
    "book(consultants, 10, 2, \"price\")\n",
    "book(consultants, 20, 2, \"rate\")\n",
    "book(consultants, 11, 1, \"rate\")\n",
    "book(consultants, 11, 2, \"rate\")\n",
    "book(consultants, 14, 3, \"price\")\n"
   ]
  }
 ],
 "metadata": {
  "kernelspec": {
   "display_name": "Python 3",
   "language": "python",
   "name": "python3"
  },
  "language_info": {
   "codemirror_mode": {
    "name": "ipython",
    "version": 3
   },
   "file_extension": ".py",
   "mimetype": "text/x-python",
   "name": "python",
   "nbconvert_exporter": "python",
   "pygments_lexer": "ipython3",
   "version": "3.12.1"
  }
 },
 "nbformat": 4,
 "nbformat_minor": 2
}
