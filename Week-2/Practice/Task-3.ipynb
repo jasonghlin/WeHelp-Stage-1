{
 "cells": [
  {
   "cell_type": "code",
   "execution_count": 14,
   "metadata": {},
   "outputs": [
    {
     "name": "stdout",
     "output_type": "stream",
     "text": [
      "['彭大牆']\n",
      "['林花花']\n",
      "沒有\n",
      "['夏曼藍波安']\n"
     ]
    }
   ],
   "source": [
    "def func(*data):\n",
    "    # your code here\n",
    "    data_list = list(data)\n",
    "    \n",
    "    middle_name = []\n",
    "    for name in data_list:\n",
    "        if len(name) == 5:\n",
    "            middle_name.extend(name[2])\n",
    "        elif len(name) == 2:\n",
    "            middle_name.extend(name[-1])\n",
    "        else:\n",
    "            middle_name.extend(name[-2])\n",
    "\n",
    "    # print(middle_name)\n",
    "    unique_name = [name for name in middle_name if middle_name.count(name) == 1]\n",
    "    # print(unique_name)\n",
    "    \n",
    "    if unique_name == []:\n",
    "        print(\"沒有\")\n",
    "        return\n",
    "    final = [name for name in data_list if \"\".join(unique_name) in name]\n",
    "    print(final)\n",
    "\n",
    "func(\"彭大牆\", \"陳王明雅\", \"吳明\") # print 彭大牆\n",
    "func(\"郭靜雅\", \"王立強\", \"郭林靜宜\", \"郭立恆\", \"林花花\") # print 林花花\n",
    "func(\"郭宣雅\", \"林靜宜\", \"郭宣恆\", \"林靜花\") # print 沒有\n",
    "func(\"郭宣雅\", \"夏曼藍波安\", \"郭宣恆\") # print 夏曼藍波安"
   ]
  }
 ],
 "metadata": {
  "kernelspec": {
   "display_name": "base",
   "language": "python",
   "name": "python3"
  },
  "language_info": {
   "codemirror_mode": {
    "name": "ipython",
    "version": 3
   },
   "file_extension": ".py",
   "mimetype": "text/x-python",
   "name": "python",
   "nbconvert_exporter": "python",
   "pygments_lexer": "ipython3",
   "version": "3.12.1"
  }
 },
 "nbformat": 4,
 "nbformat_minor": 2
}
