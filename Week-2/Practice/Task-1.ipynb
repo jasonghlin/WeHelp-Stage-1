{
 "cells": [
  {
   "cell_type": "code",
   "execution_count": 2,
   "metadata": {},
   "outputs": [
    {
     "name": "stdout",
     "output_type": "stream",
     "text": [
      "Mary\n",
      "Copper\n",
      "Leslie\n",
      "Bob\n",
      "Vivian\n"
     ]
    }
   ],
   "source": [
    "# 支線另外處理\n",
    "# 有順序的處理\n",
    "\n",
    "\n",
    "def find_and_print(messages, current_station):\n",
    "    # your code here\n",
    "    green_line = [\"Songshan\", \"Nanjing Sanmin\", \"Taipei Arena\", \"Nanjing Fuxing\", \"Songjiang Nanjing\", \"Zhongshan\", \"Beimen\", \"Ximen\", \"Xiaonanmen\", \"Chiang Kai-Shek Memorial Hall\", \"Guting\", \"Taipower Building\", \"Gongguan\", \"Wanlong\", \"Jingmei\", \"Dapinglin\", \"Qizhang\", \"Xindian City Hall\", \"Xindian\"]\n",
    "    # print(len(green_line))\n",
    "    \n",
    "    #過濾出 message 當中的 mrt\n",
    "    mrt_stations = []\n",
    "    for message in messages.values():\n",
    "        if \"station\" in message:\n",
    "            if \"near\" in message:\n",
    "                start_index = message.find(\"near\") + len(\"near\")\n",
    "            else:\n",
    "                start_index = message.find(\"at\") + len(\"at\")\n",
    "            end_index = message.find(\"station\")\n",
    "            station_name = message[start_index:end_index].strip()\n",
    "            mrt_stations.append(station_name)\n",
    "        else:\n",
    "            start_index = message.find(\"at\") + len(\"at\")\n",
    "            end_index = message.find(\".\")\n",
    "            station_name = message[start_index:end_index].strip()\n",
    "            mrt_stations.append(station_name)\n",
    "            \n",
    "    mrt_names = [name.replace(\" station\", \"\").replace(\" MRT\", \"\") for name in mrt_stations]\n",
    "\n",
    "    # print(mrt_names)\n",
    "\n",
    "\n",
    "    current_station_index = 16 if current_station == \"Xindian\" else green_line.index(current_station)\n",
    "    min_length = 99\n",
    "    min_index = 0\n",
    "    # 找到 mrt_name 的 i 是最短路徑\n",
    "    for i in range(len(mrt_names)):\n",
    "        if mrt_names[i] == \"Xiaobitan\":\n",
    "            # print(\"Xiaobitan\")\n",
    "            # Qizhang index 16\n",
    "            length = abs(16 - current_station_index) + 1\n",
    "            if length < min_length:\n",
    "                min_length = length\n",
    "                min_index = i\n",
    "        else:\n",
    "            length = abs(green_line.index(mrt_names[i]) - current_station_index)\n",
    "            if length < min_length:\n",
    "                min_length = length\n",
    "                min_index = i\n",
    "    # print(mrt_names[min_index])\n",
    "   \n",
    "    # for i in range(len(mrt_names)):\n",
    "    #     if mrt_names[min_index] in list(messages.values())[i]\n",
    "    friend = [list(messages.keys())[i] for i in range(len(mrt_names)) if mrt_names[min_index] in list(messages.values())[i]]\n",
    "    print(\"\".join(friend))\n",
    "    \n",
    "\n",
    "messages={\n",
    "    \"Leslie\":\"I'm at home near Xiaobitan station.\",\n",
    "    \"Bob\":\"I'm at Ximen MRT station.\",\n",
    "    \"Mary\":\"I have a drink near Jingmei MRT station.\",\n",
    "    \"Copper\":\"I just saw a concert at Taipei Arena.\",\n",
    "    \"Vivian\":\"I'm at Xindian station waiting for you.\"\n",
    "}\n",
    "\n",
    "find_and_print(messages, \"Wanlong\") # print Mary \n",
    "find_and_print(messages, \"Songshan\") # print Copper \n",
    "find_and_print(messages, \"Qizhang\") # print Leslie\n",
    "find_and_print(messages, \"Ximen\") # print Bob\n",
    "find_and_print(messages, \"Xindian City Hall\") # print Vivian\n"
   ]
  }
 ],
 "metadata": {
  "kernelspec": {
   "display_name": "base",
   "language": "python",
   "name": "python3"
  },
  "language_info": {
   "codemirror_mode": {
    "name": "ipython",
    "version": 3
   },
   "file_extension": ".py",
   "mimetype": "text/x-python",
   "name": "python",
   "nbconvert_exporter": "python",
   "pygments_lexer": "ipython3",
   "version": "3.12.1"
  }
 },
 "nbformat": 4,
 "nbformat_minor": 2
}
