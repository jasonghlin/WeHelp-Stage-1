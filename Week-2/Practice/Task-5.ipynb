{
 "cells": [
  {
   "cell_type": "code",
   "execution_count": 6,
   "metadata": {},
   "outputs": [
    {
     "name": "stdout",
     "output_type": "stream",
     "text": [
      "5\n",
      "-1\n",
      "2\n"
     ]
    }
   ],
   "source": [
    "def find(spaces, stat, n):\n",
    "    # your code here\n",
    "    have_seat = [spaces[i] for i in range(len(spaces)) if spaces[i] >= n and stat[i] == 1]\n",
    "    if len(have_seat) == 0:\n",
    "        print(-1)\n",
    "        return\n",
    "    else:\n",
    "        min_len = 99\n",
    "        min_num = -1\n",
    "        for i in range(len(have_seat)):\n",
    "            if have_seat[i] - n < min_len:\n",
    "                min_len = have_seat[i] - n\n",
    "                min_num = have_seat[i]\n",
    "\n",
    "        print(spaces.index(min_num))\n",
    "\n",
    "\n",
    "find([3, 1, 5, 4, 3, 2], [0, 1, 0, 1, 1, 1], 2) # print 5\n",
    "find([1, 0, 5, 1, 3], [0, 1, 0, 1, 1], 4) # print -1\n",
    "find([4, 6, 5, 8], [0, 1, 1, 1], 4) # print 2"
   ]
  },
  {
   "cell_type": "code",
   "execution_count": null,
   "metadata": {},
   "outputs": [],
   "source": []
  }
 ],
 "metadata": {
  "kernelspec": {
   "display_name": "base",
   "language": "python",
   "name": "python3"
  },
  "language_info": {
   "codemirror_mode": {
    "name": "ipython",
    "version": 3
   },
   "file_extension": ".py",
   "mimetype": "text/x-python",
   "name": "python",
   "nbconvert_exporter": "python",
   "pygments_lexer": "ipython3",
   "version": "3.12.1"
  }
 },
 "nbformat": 4,
 "nbformat_minor": 2
}
